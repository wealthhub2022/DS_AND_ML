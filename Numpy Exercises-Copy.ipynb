{
 "cells": [
  {
   "cell_type": "markdown",
   "id": "7ecef58b",
   "metadata": {},
   "source": [
    "# Numpy Exercises"
   ]
  },
  {
   "cell_type": "markdown",
   "id": "a805aab6",
   "metadata": {},
   "source": [
    "# Import Numpy as np"
   ]
  },
  {
   "cell_type": "code",
   "execution_count": 3,
   "id": "a0702f93",
   "metadata": {},
   "outputs": [],
   "source": []
  },
  {
   "cell_type": "markdown",
   "id": "a303d5f1",
   "metadata": {},
   "source": [
    "# Create an array of 15 zeros"
   ]
  },
  {
   "cell_type": "code",
   "execution_count": 4,
   "id": "4854e4f5",
   "metadata": {},
   "outputs": [
    {
     "data": {
      "text/plain": [
       "array([0., 0., 0., 0., 0., 0., 0., 0., 0., 0., 0., 0., 0., 0., 0.])"
      ]
     },
     "execution_count": 4,
     "metadata": {},
     "output_type": "execute_result"
    }
   ],
   "source": []
  },
  {
   "cell_type": "markdown",
   "id": "c3b589d0",
   "metadata": {},
   "source": [
    "# Create an array of 15 ones"
   ]
  },
  {
   "cell_type": "code",
   "execution_count": 5,
   "id": "ee61e066",
   "metadata": {},
   "outputs": [
    {
     "data": {
      "text/plain": [
       "array([1., 1., 1., 1., 1., 1., 1., 1., 1., 1., 1., 1., 1., 1., 1.])"
      ]
     },
     "execution_count": 5,
     "metadata": {},
     "output_type": "execute_result"
    }
   ],
   "source": []
  },
  {
   "cell_type": "markdown",
   "id": "427f13a6",
   "metadata": {},
   "source": [
    "# Create an array of 15 sevens"
   ]
  },
  {
   "cell_type": "code",
   "execution_count": 10,
   "id": "497a3f5b",
   "metadata": {},
   "outputs": [
    {
     "data": {
      "text/plain": [
       "array([7., 7., 7., 7., 7., 7., 7., 7., 7., 7., 7., 7., 7., 7., 7.])"
      ]
     },
     "execution_count": 10,
     "metadata": {},
     "output_type": "execute_result"
    }
   ],
   "source": []
  },
  {
   "cell_type": "markdown",
   "id": "dd370eb2",
   "metadata": {},
   "source": [
    "# create an array of the integers from 5 to 75"
   ]
  },
  {
   "cell_type": "code",
   "execution_count": 8,
   "id": "a02da783",
   "metadata": {},
   "outputs": [
    {
     "data": {
      "text/plain": [
       "array([ 5,  6,  7,  8,  9, 10, 11, 12, 13, 14, 15, 16, 17, 18, 19, 20, 21,\n",
       "       22, 23, 24, 25, 26, 27, 28, 29, 30, 31, 32, 33, 34, 35, 36, 37, 38,\n",
       "       39, 40, 41, 42, 43, 44, 45, 46, 47, 48, 49, 50, 51, 52, 53, 54, 55,\n",
       "       56, 57, 58, 59, 60, 61, 62, 63, 64, 65, 66, 67, 68, 69, 70, 71, 72,\n",
       "       73, 74, 75])"
      ]
     },
     "execution_count": 8,
     "metadata": {},
     "output_type": "execute_result"
    }
   ],
   "source": []
  },
  {
   "cell_type": "markdown",
   "id": "f6ccf16d",
   "metadata": {},
   "source": [
    "# create an array of all the even integers from 2 to 80"
   ]
  },
  {
   "cell_type": "code",
   "execution_count": 9,
   "id": "99f31ab6",
   "metadata": {},
   "outputs": [
    {
     "data": {
      "text/plain": [
       "array([ 2,  4,  6,  8, 10, 12, 14, 16, 18, 20, 22, 24, 26, 28, 30, 32, 34,\n",
       "       36, 38, 40, 42, 44, 46, 48, 50, 52, 54, 56, 58, 60, 62, 64, 66, 68,\n",
       "       70, 72, 74, 76, 78])"
      ]
     },
     "execution_count": 9,
     "metadata": {},
     "output_type": "execute_result"
    }
   ],
   "source": []
  },
  {
   "cell_type": "markdown",
   "id": "b9e548d6",
   "metadata": {},
   "source": [
    "# Create a 4X4 matrix with values ranging from 0 to 15"
   ]
  },
  {
   "cell_type": "code",
   "execution_count": 25,
   "id": "4db3a9c5",
   "metadata": {},
   "outputs": [
    {
     "data": {
      "text/plain": [
       "array([[ 0,  1,  2,  3],\n",
       "       [ 4,  5,  6,  7],\n",
       "       [ 8,  9, 10, 11],\n",
       "       [12, 13, 14, 15]])"
      ]
     },
     "execution_count": 25,
     "metadata": {},
     "output_type": "execute_result"
    }
   ],
   "source": []
  },
  {
   "cell_type": "markdown",
   "id": "0284b3ec",
   "metadata": {},
   "source": [
    "# Create a 4X4 identity matrix"
   ]
  },
  {
   "cell_type": "code",
   "execution_count": 13,
   "id": "98eb206c",
   "metadata": {},
   "outputs": [
    {
     "data": {
      "text/plain": [
       "array([[1., 0., 0., 0.],\n",
       "       [0., 1., 0., 0.],\n",
       "       [0., 0., 1., 0.],\n",
       "       [0., 0., 0., 1.]])"
      ]
     },
     "execution_count": 13,
     "metadata": {},
     "output_type": "execute_result"
    }
   ],
   "source": []
  },
  {
   "cell_type": "markdown",
   "id": "8021d57b",
   "metadata": {},
   "source": [
    "# Use Numpy to generate a random numbre between 0 and 1"
   ]
  },
  {
   "cell_type": "code",
   "execution_count": 26,
   "id": "953f4d27",
   "metadata": {},
   "outputs": [
    {
     "data": {
      "text/plain": [
       "array([0.97314248])"
      ]
     },
     "execution_count": 26,
     "metadata": {},
     "output_type": "execute_result"
    }
   ],
   "source": []
  },
  {
   "cell_type": "markdown",
   "id": "ef77cdb5",
   "metadata": {},
   "source": [
    "# Use Numpy to generate an array of 35 random numbers sampled from a standard normal destributionr"
   ]
  },
  {
   "cell_type": "code",
   "execution_count": 27,
   "id": "c560f040",
   "metadata": {},
   "outputs": [
    {
     "data": {
      "text/plain": [
       "array([ 1.54197742, -0.2625101 ,  0.47866635, -0.22182426,  0.51863518,\n",
       "        0.12504325,  0.7673915 , -0.63569546, -0.541619  , -0.71199597,\n",
       "        1.28604544, -0.74417406, -0.09228423,  2.08171417, -0.67376337,\n",
       "        1.48272312, -0.11134147,  0.10077741,  0.42277033, -0.23177279,\n",
       "        1.63928453,  0.03511514, -1.09877654, -0.17752928, -0.92724946,\n",
       "       -0.19788706, -0.65746416,  0.14260769, -0.08635449, -0.9710303 ,\n",
       "       -0.70900888, -1.77089007, -0.17560794,  0.26589484, -0.81483274])"
      ]
     },
     "execution_count": 27,
     "metadata": {},
     "output_type": "execute_result"
    }
   ],
   "source": []
  },
  {
   "cell_type": "markdown",
   "id": "037de4da",
   "metadata": {},
   "source": [
    "# create the following matrix"
   ]
  },
  {
   "cell_type": "code",
   "execution_count": 29,
   "id": "f7a71b4e",
   "metadata": {},
   "outputs": [
    {
     "data": {
      "text/plain": [
       "array([[0.01, 0.02, 0.03, 0.04, 0.05, 0.06, 0.07, 0.08, 0.09, 0.1 ],\n",
       "       [0.11, 0.12, 0.13, 0.14, 0.15, 0.16, 0.17, 0.18, 0.19, 0.2 ],\n",
       "       [0.21, 0.22, 0.23, 0.24, 0.25, 0.26, 0.27, 0.28, 0.29, 0.3 ],\n",
       "       [0.31, 0.32, 0.33, 0.34, 0.35, 0.36, 0.37, 0.38, 0.39, 0.4 ],\n",
       "       [0.41, 0.42, 0.43, 0.44, 0.45, 0.46, 0.47, 0.48, 0.49, 0.5 ],\n",
       "       [0.51, 0.52, 0.53, 0.54, 0.55, 0.56, 0.57, 0.58, 0.59, 0.6 ],\n",
       "       [0.61, 0.62, 0.63, 0.64, 0.65, 0.66, 0.67, 0.68, 0.69, 0.7 ],\n",
       "       [0.71, 0.72, 0.73, 0.74, 0.75, 0.76, 0.77, 0.78, 0.79, 0.8 ],\n",
       "       [0.81, 0.82, 0.83, 0.84, 0.85, 0.86, 0.87, 0.88, 0.89, 0.9 ],\n",
       "       [0.91, 0.92, 0.93, 0.94, 0.95, 0.96, 0.97, 0.98, 0.99, 1.  ]])"
      ]
     },
     "execution_count": 29,
     "metadata": {},
     "output_type": "execute_result"
    }
   ],
   "source": []
  },
  {
   "cell_type": "markdown",
   "id": "0ec9f323",
   "metadata": {},
   "source": [
    "# Create an array of 30 linearly spaced points between 0 and 1"
   ]
  },
  {
   "cell_type": "code",
   "execution_count": 31,
   "id": "c846629f",
   "metadata": {},
   "outputs": [
    {
     "data": {
      "text/plain": [
       "array([0.        , 0.11111111, 0.22222222, 0.33333333, 0.44444444,\n",
       "       0.55555556, 0.66666667, 0.77777778, 0.88888889, 1.        ])"
      ]
     },
     "execution_count": 31,
     "metadata": {},
     "output_type": "execute_result"
    }
   ],
   "source": []
  },
  {
   "cell_type": "markdown",
   "id": "7344134c",
   "metadata": {},
   "source": [
    "# Numpy Indexing and Selection"
   ]
  },
  {
   "cell_type": "code",
   "execution_count": 24,
   "id": "e8b2f1ac",
   "metadata": {},
   "outputs": [
    {
     "data": {
      "text/plain": [
       "array([[ 1,  2,  3,  4,  5,  6,  7],\n",
       "       [ 8,  9, 10, 11, 12, 13, 14],\n",
       "       [15, 16, 17, 18, 19, 20, 21],\n",
       "       [22, 23, 24, 25, 26, 27, 28],\n",
       "       [29, 30, 31, 32, 33, 34, 35],\n",
       "       [36, 37, 38, 39, 40, 41, 42],\n",
       "       [43, 44, 45, 46, 47, 48, 49]])"
      ]
     },
     "execution_count": 24,
     "metadata": {},
     "output_type": "execute_result"
    }
   ],
   "source": [
    "matx = np.arange(1,50).reshape(7,7)\n",
    "matx"
   ]
  },
  {
   "cell_type": "code",
   "execution_count": 33,
   "id": "0e0cbb64",
   "metadata": {},
   "outputs": [
    {
     "data": {
      "text/plain": [
       "array([[23, 24, 25, 26, 27, 28],\n",
       "       [30, 31, 32, 33, 34, 35],\n",
       "       [37, 38, 39, 40, 41, 42],\n",
       "       [44, 45, 46, 47, 48, 49]])"
      ]
     },
     "execution_count": 33,
     "metadata": {},
     "output_type": "execute_result"
    }
   ],
   "source": []
  },
  {
   "cell_type": "code",
   "execution_count": 37,
   "id": "cec7f694",
   "metadata": {},
   "outputs": [
    {
     "data": {
      "text/plain": [
       "40"
      ]
     },
     "execution_count": 37,
     "metadata": {},
     "output_type": "execute_result"
    }
   ],
   "source": []
  },
  {
   "cell_type": "code",
   "execution_count": 42,
   "id": "3793f873",
   "metadata": {},
   "outputs": [
    {
     "data": {
      "text/plain": [
       "array([[ 2],\n",
       "       [ 9],\n",
       "       [16],\n",
       "       [23],\n",
       "       [30]])"
      ]
     },
     "execution_count": 42,
     "metadata": {},
     "output_type": "execute_result"
    }
   ],
   "source": []
  },
  {
   "cell_type": "code",
   "execution_count": 44,
   "id": "b8541843",
   "metadata": {},
   "outputs": [
    {
     "data": {
      "text/plain": [
       "array([43, 44, 45, 46, 47, 48, 49])"
      ]
     },
     "execution_count": 44,
     "metadata": {},
     "output_type": "execute_result"
    }
   ],
   "source": []
  },
  {
   "cell_type": "code",
   "execution_count": 45,
   "id": "ad781684",
   "metadata": {},
   "outputs": [
    {
     "data": {
      "text/plain": [
       "array([43, 44, 45, 46, 47, 48, 49])"
      ]
     },
     "execution_count": 45,
     "metadata": {},
     "output_type": "execute_result"
    }
   ],
   "source": []
  },
  {
   "cell_type": "code",
   "execution_count": 49,
   "id": "309f121a",
   "metadata": {},
   "outputs": [
    {
     "data": {
      "text/plain": [
       "array([[29, 30, 31, 32, 33, 34, 35],\n",
       "       [36, 37, 38, 39, 40, 41, 42],\n",
       "       [43, 44, 45, 46, 47, 48, 49]])"
      ]
     },
     "execution_count": 49,
     "metadata": {},
     "output_type": "execute_result"
    }
   ],
   "source": []
  },
  {
   "cell_type": "markdown",
   "id": "730f2fb6",
   "metadata": {},
   "source": [
    "# Now Do The Followng"
   ]
  },
  {
   "cell_type": "markdown",
   "id": "93e89b2b",
   "metadata": {},
   "source": [
    "Get The Sum of All The Values In matx:"
   ]
  },
  {
   "cell_type": "code",
   "execution_count": 50,
   "id": "64afe928",
   "metadata": {},
   "outputs": [
    {
     "data": {
      "text/plain": [
       "1225"
      ]
     },
     "execution_count": 50,
     "metadata": {},
     "output_type": "execute_result"
    }
   ],
   "source": []
  },
  {
   "cell_type": "markdown",
   "id": "698370ef",
   "metadata": {},
   "source": [
    "Get The Standard deviation of the values in matx:"
   ]
  },
  {
   "cell_type": "code",
   "execution_count": 52,
   "id": "41b29606",
   "metadata": {},
   "outputs": [
    {
     "data": {
      "text/plain": [
       "14.142135623730951"
      ]
     },
     "execution_count": 52,
     "metadata": {},
     "output_type": "execute_result"
    }
   ],
   "source": []
  },
  {
   "cell_type": "markdown",
   "id": "c866c61a",
   "metadata": {},
   "source": [
    "Get The sum of all the columns in matx:"
   ]
  },
  {
   "cell_type": "code",
   "execution_count": 53,
   "id": "dd2c3451",
   "metadata": {},
   "outputs": [
    {
     "data": {
      "text/plain": [
       "array([154, 161, 168, 175, 182, 189, 196])"
      ]
     },
     "execution_count": 53,
     "metadata": {},
     "output_type": "execute_result"
    }
   ],
   "source": []
  }
 ],
 "metadata": {
  "kernelspec": {
   "display_name": "Python 3 (ipykernel)",
   "language": "python",
   "name": "python3"
  },
  "language_info": {
   "codemirror_mode": {
    "name": "ipython",
    "version": 3
   },
   "file_extension": ".py",
   "mimetype": "text/x-python",
   "name": "python",
   "nbconvert_exporter": "python",
   "pygments_lexer": "ipython3",
   "version": "3.11.5"
  }
 },
 "nbformat": 4,
 "nbformat_minor": 5
}
