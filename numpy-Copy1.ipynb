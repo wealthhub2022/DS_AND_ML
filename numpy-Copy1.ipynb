{
 "cells": [
  {
   "cell_type": "code",
   "execution_count": 2,
   "id": "23a46bda",
   "metadata": {},
   "outputs": [
    {
     "name": "stdout",
     "output_type": "stream",
     "text": [
      "[ 0  1  4  9 16 25 36 49 64 81]\n"
     ]
    }
   ],
   "source": [
    "import numpy as np\n",
    "array = np.arange(10)\n",
    "squared_array = array ** 2\n",
    "print(squared_array)"
   ]
  },
  {
   "cell_type": "code",
   "execution_count": 1,
   "id": "e95c0044",
   "metadata": {
    "scrolled": true
   },
   "outputs": [
    {
     "data": {
      "text/plain": [
       "(1, 6)"
      ]
     },
     "execution_count": 1,
     "metadata": {},
     "output_type": "execute_result"
    }
   ],
   "source": [
    "import numpy as np\n",
    "a = np.arange(start=0, stop=6, step=1)\n",
    "a2 = a[np.newaxis, :]\n",
    "a2.shape\n",
    "(1, 6)"
   ]
  },
  {
   "cell_type": "code",
   "execution_count": 13,
   "id": "fc630c8d",
   "metadata": {},
   "outputs": [],
   "source": [
    "# Creating array object \n",
    "arr = np.array( [[ 1, 2, 3], \n",
    "                 [ 4, 2, 5]] ) "
   ]
  },
  {
   "cell_type": "code",
   "execution_count": 11,
   "id": "6ad66db7",
   "metadata": {},
   "outputs": [
    {
     "name": "stdout",
     "output_type": "stream",
     "text": [
      "Array is of type:  <class 'numpy.ndarray'>\n"
     ]
    }
   ],
   "source": [
    "# Printing type of arr object \n",
    "print(\"Array is of type: \", type(arr)) "
   ]
  },
  {
   "cell_type": "code",
   "execution_count": 10,
   "id": "9455e174",
   "metadata": {},
   "outputs": [
    {
     "name": "stdout",
     "output_type": "stream",
     "text": [
      "No. of dimensions:  2\n"
     ]
    }
   ],
   "source": [
    "# Printing array dimensions (axes) \n",
    "print(\"No. of dimensions: \", arr.ndim) "
   ]
  },
  {
   "cell_type": "code",
   "execution_count": 8,
   "id": "822afd48",
   "metadata": {},
   "outputs": [
    {
     "name": "stdout",
     "output_type": "stream",
     "text": [
      "Shape of array:  (2, 3)\n"
     ]
    }
   ],
   "source": [
    "# Printing shape of array \n",
    "print(\"Shape of array: \", arr.shape) "
   ]
  },
  {
   "cell_type": "code",
   "execution_count": 7,
   "id": "26d91031",
   "metadata": {},
   "outputs": [
    {
     "name": "stdout",
     "output_type": "stream",
     "text": [
      "Size of array:  6\n"
     ]
    }
   ],
   "source": [
    "# Printing size (total number of elements) of array \n",
    "print(\"Size of array: \", arr.size) "
   ]
  },
  {
   "cell_type": "code",
   "execution_count": 6,
   "id": "e5cea83d",
   "metadata": {},
   "outputs": [
    {
     "name": "stdout",
     "output_type": "stream",
     "text": [
      "Array stores elements of type:  int32\n"
     ]
    }
   ],
   "source": [
    "\n",
    "# Printing type of elements in array \n",
    "print(\"Array stores elements of type: \", arr.dtype) "
   ]
  },
  {
   "cell_type": "markdown",
   "id": "ce2f5f36",
   "metadata": {},
   "source": [
    "# NumPy Array Creation\n",
    "There are various ways of Numpy array creation in Python. They are as follows:\n",
    "\n",
    "1. You can create an array from a regular Python list or tuple using the array() function. \n",
    "The type of the resulting array is deduced from the type of the elements in the sequences. Let’s see this implementation:"
   ]
  },
  {
   "cell_type": "code",
   "execution_count": 14,
   "id": "e30aceba",
   "metadata": {},
   "outputs": [
    {
     "name": "stdout",
     "output_type": "stream",
     "text": [
      "Array created using passed list:\n",
      " [[1. 2. 4.]\n",
      " [5. 8. 7.]]\n"
     ]
    }
   ],
   "source": [
    "# Creating array from list with type float \n",
    "a = np.array([[1, 2, 4], [5, 8, 7]], dtype = 'float') \n",
    "print (\"Array created using passed list:\\n\", a) \n",
    "  \n"
   ]
  },
  {
   "cell_type": "code",
   "execution_count": 15,
   "id": "8de3ebad",
   "metadata": {},
   "outputs": [
    {
     "name": "stdout",
     "output_type": "stream",
     "text": [
      "\n",
      "Array created using passed tuple:\n",
      " [1 3 2]\n"
     ]
    }
   ],
   "source": [
    "# Creating array from tuple \n",
    "b = np.array((1 , 3, 2)) \n",
    "print (\"\\nArray created using passed tuple:\\n\", b)"
   ]
  },
  {
   "cell_type": "markdown",
   "id": "f12c8a3f",
   "metadata": {},
   "source": [
    "2. Often, the element is of an array is originally unknown, but its size is known. Hence, NumPy offers several functions to create arrays with initial placeholder content. These minimize the necessity of growing arrays, an expensive operation. For example: np.zeros, np.ones, np.full, np.empty, etc.\n",
    "\n",
    "To create sequences of numbers, NumPy provides a function analogous to the range that returns arrays instead of lists."
   ]
  },
  {
   "cell_type": "code",
   "execution_count": 18,
   "id": "53cde674",
   "metadata": {},
   "outputs": [
    {
     "name": "stdout",
     "output_type": "stream",
     "text": [
      "An array initialized with all zeros:\n",
      " [[0. 0. 0. 0.]\n",
      " [0. 0. 0. 0.]\n",
      " [0. 0. 0. 0.]]\n"
     ]
    }
   ],
   "source": [
    "\n",
    "\n",
    "# Creating a 3X4 array with all zeros \n",
    "c = np.zeros((3, 4)) \n",
    "print (\"An array initialized with all zeros:\\n\", c) \n",
    "  \n"
   ]
  },
  {
   "cell_type": "code",
   "execution_count": 17,
   "id": "c22e7c9c",
   "metadata": {},
   "outputs": [
    {
     "name": "stdout",
     "output_type": "stream",
     "text": [
      "An array initialized with all 6s.Array type is complex:\n",
      " [[6.+0.j 6.+0.j 6.+0.j]\n",
      " [6.+0.j 6.+0.j 6.+0.j]\n",
      " [6.+0.j 6.+0.j 6.+0.j]]\n"
     ]
    }
   ],
   "source": [
    "# Create a constant value array of complex type \n",
    "d = np.full((3, 3), 6, dtype = 'complex') \n",
    "print (\"An array initialized with all 6s.\" \n",
    "            \"Array type is complex:\\n\", d) \n"
   ]
  },
  {
   "cell_type": "code",
   "execution_count": 19,
   "id": "41756940",
   "metadata": {},
   "outputs": [
    {
     "name": "stdout",
     "output_type": "stream",
     "text": [
      "A random array:\n",
      " [[0.20955801 0.95695253]\n",
      " [0.60752987 0.72579549]]\n"
     ]
    }
   ],
   "source": [
    "  \n",
    "# Create an array with random values \n",
    "e = np.random.random((2, 2)) \n",
    "print (\"A random array:\\n\", e)"
   ]
  },
  {
   "cell_type": "markdown",
   "id": "d5246538",
   "metadata": {},
   "source": [
    "3. arange: This function returns evenly spaced values within a given interval. Step size is specified."
   ]
  },
  {
   "cell_type": "code",
   "execution_count": 20,
   "id": "f142cf22",
   "metadata": {},
   "outputs": [
    {
     "name": "stdout",
     "output_type": "stream",
     "text": [
      "A sequential array with steps of 5:\n",
      " [ 0  5 10 15 20 25]\n"
     ]
    }
   ],
   "source": [
    "\n",
    "\n",
    "# Create a sequence of integers  \n",
    "# from 0 to 30 with steps of 5 \n",
    "f = np.arange(0, 30, 5) \n",
    "print (\"A sequential array with steps of 5:\\n\", f)"
   ]
  },
  {
   "cell_type": "markdown",
   "id": "2f22eebf",
   "metadata": {},
   "source": [
    "4. linspace: It returns evenly spaced values within a given interval."
   ]
  },
  {
   "cell_type": "code",
   "execution_count": 21,
   "id": "18113c93",
   "metadata": {},
   "outputs": [
    {
     "name": "stdout",
     "output_type": "stream",
     "text": [
      "A sequential array with 10 values between0 and 5:\n",
      " [0.         0.55555556 1.11111111 1.66666667 2.22222222 2.77777778\n",
      " 3.33333333 3.88888889 4.44444444 5.        ]\n"
     ]
    }
   ],
   "source": [
    "\n",
    "\n",
    "# Create a sequence of 10 values in range 0 to 5 \n",
    "g = np.linspace(0, 5, 10) \n",
    "print (\"A sequential array with 10 values between\"\n",
    "                                 \"0 and 5:\\n\",)\n",
    "print(g)"
   ]
  },
  {
   "cell_type": "code",
   "execution_count": null,
   "id": "7f5630a2",
   "metadata": {},
   "outputs": [],
   "source": []
  }
 ],
 "metadata": {
  "kernelspec": {
   "display_name": "Python 3 (ipykernel)",
   "language": "python",
   "name": "python3"
  },
  "language_info": {
   "codemirror_mode": {
    "name": "ipython",
    "version": 3
   },
   "file_extension": ".py",
   "mimetype": "text/x-python",
   "name": "python",
   "nbconvert_exporter": "python",
   "pygments_lexer": "ipython3",
   "version": "3.11.5"
  }
 },
 "nbformat": 4,
 "nbformat_minor": 5
}
