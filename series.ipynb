{
 "cells": [
  {
   "cell_type": "code",
   "execution_count": 3,
   "id": "a428f951",
   "metadata": {},
   "outputs": [],
   "source": [
    "import numpy as np\n",
    "import pandas as pd"
   ]
  },
  {
   "cell_type": "code",
   "execution_count": 7,
   "id": "c38daae3",
   "metadata": {},
   "outputs": [],
   "source": [
    "students = ['John','Peter','James','Abraham']\n",
    "courses = ['Numpy','Pandas','Seaborn','Python']\n",
    "student_course = {\n",
    "    'John':'Numpy',\n",
    "    'Peter':'Pandas',\n",
    "    'James':'Seaborn',\n",
    "    'Abraham':'Python'\n",
    "}"
   ]
  },
  {
   "cell_type": "code",
   "execution_count": null,
   "id": "1dc773a2",
   "metadata": {},
   "outputs": [],
   "source": [
    "pd.Series()"
   ]
  },
  {
   "cell_type": "code",
   "execution_count": 9,
   "id": "04d88cf0",
   "metadata": {},
   "outputs": [
    {
     "data": {
      "text/plain": [
       "0       John\n",
       "1      Peter\n",
       "2      James\n",
       "3    Abraham\n",
       "dtype: object"
      ]
     },
     "execution_count": 9,
     "metadata": {},
     "output_type": "execute_result"
    }
   ],
   "source": [
    "pd.Series(data=students)"
   ]
  },
  {
   "cell_type": "code",
   "execution_count": 10,
   "id": "9612b3e5",
   "metadata": {},
   "outputs": [
    {
     "data": {
      "text/plain": [
       "John         Numpy\n",
       "Peter       Pandas\n",
       "James      Seaborn\n",
       "Abraham     Python\n",
       "dtype: object"
      ]
     },
     "execution_count": 10,
     "metadata": {},
     "output_type": "execute_result"
    }
   ],
   "source": [
    "pd.Series(data=courses, index=students)"
   ]
  },
  {
   "cell_type": "code",
   "execution_count": 11,
   "id": "0b7af0ba",
   "metadata": {},
   "outputs": [
    {
     "data": {
      "text/plain": [
       "John         Numpy\n",
       "Peter       Pandas\n",
       "James      Seaborn\n",
       "Abraham     Python\n",
       "dtype: object"
      ]
     },
     "execution_count": 11,
     "metadata": {},
     "output_type": "execute_result"
    }
   ],
   "source": [
    "pd.Series(courses, students)"
   ]
  },
  {
   "cell_type": "code",
   "execution_count": 20,
   "id": "07bfabfc",
   "metadata": {},
   "outputs": [],
   "source": [
    "arr = np.arange(20,50,3)"
   ]
  },
  {
   "cell_type": "code",
   "execution_count": 21,
   "id": "ba02f7ab",
   "metadata": {},
   "outputs": [
    {
     "data": {
      "text/plain": [
       "0    20\n",
       "1    23\n",
       "2    26\n",
       "3    29\n",
       "4    32\n",
       "5    35\n",
       "6    38\n",
       "7    41\n",
       "8    44\n",
       "9    47\n",
       "dtype: int32"
      ]
     },
     "execution_count": 21,
     "metadata": {},
     "output_type": "execute_result"
    }
   ],
   "source": [
    "pd.Series(arr)"
   ]
  },
  {
   "cell_type": "code",
   "execution_count": 25,
   "id": "9026ea5c",
   "metadata": {
    "scrolled": false
   },
   "outputs": [
    {
     "data": {
      "text/plain": [
       "0       John\n",
       "1      Peter\n",
       "2      James\n",
       "3    Abraham\n",
       "dtype: object"
      ]
     },
     "execution_count": 25,
     "metadata": {},
     "output_type": "execute_result"
    }
   ],
   "source": [
    "pd.Series(students,np.arange(4))"
   ]
  },
  {
   "cell_type": "code",
   "execution_count": 26,
   "id": "6bf99b61",
   "metadata": {},
   "outputs": [
    {
     "data": {
      "text/plain": [
       "John         Numpy\n",
       "Peter       Pandas\n",
       "James      Seaborn\n",
       "Abraham     Python\n",
       "dtype: object"
      ]
     },
     "execution_count": 26,
     "metadata": {},
     "output_type": "execute_result"
    }
   ],
   "source": [
    "pd.Series(student_course)"
   ]
  },
  {
   "cell_type": "code",
   "execution_count": 27,
   "id": "341338e6",
   "metadata": {},
   "outputs": [
    {
     "data": {
      "text/plain": [
       "0      <built-in function sum>\n",
       "1    <built-in function print>\n",
       "2      <built-in function len>\n",
       "dtype: object"
      ]
     },
     "execution_count": 27,
     "metadata": {},
     "output_type": "execute_result"
    }
   ],
   "source": [
    "pd.Series(data=[sum,print,len])"
   ]
  },
  {
   "cell_type": "code",
   "execution_count": 28,
   "id": "8b1d0cb5",
   "metadata": {},
   "outputs": [],
   "source": [
    "ser1 = pd.Series([1,2,3,4],['MALI','NIGER','NIGERIA','SENEGAL'])"
   ]
  },
  {
   "cell_type": "code",
   "execution_count": 33,
   "id": "e7f2428b",
   "metadata": {},
   "outputs": [
    {
     "data": {
      "text/plain": [
       "MALI       1\n",
       "NIGER      2\n",
       "NIGERIA    3\n",
       "SENEGAL    4\n",
       "dtype: int64"
      ]
     },
     "execution_count": 33,
     "metadata": {},
     "output_type": "execute_result"
    }
   ],
   "source": [
    "ser1"
   ]
  },
  {
   "cell_type": "code",
   "execution_count": 31,
   "id": "243ab8c2",
   "metadata": {},
   "outputs": [],
   "source": [
    "ser2 = pd.Series([1,2,5,4],['MALI','LIBERIA','NIGERIA','SENEGAL'])"
   ]
  },
  {
   "cell_type": "code",
   "execution_count": 34,
   "id": "c21e8a59",
   "metadata": {},
   "outputs": [
    {
     "data": {
      "text/plain": [
       "MALI       1\n",
       "LIBERIA    2\n",
       "NIGERIA    5\n",
       "SENEGAL    4\n",
       "dtype: int64"
      ]
     },
     "execution_count": 34,
     "metadata": {},
     "output_type": "execute_result"
    }
   ],
   "source": [
    "ser2"
   ]
  },
  {
   "cell_type": "code",
   "execution_count": 29,
   "id": "5eb691b5",
   "metadata": {},
   "outputs": [
    {
     "data": {
      "text/plain": [
       "1"
      ]
     },
     "execution_count": 29,
     "metadata": {},
     "output_type": "execute_result"
    }
   ],
   "source": [
    "ser1['MALI']"
   ]
  },
  {
   "cell_type": "code",
   "execution_count": 32,
   "id": "575a9ed9",
   "metadata": {},
   "outputs": [
    {
     "data": {
      "text/plain": [
       "LIBERIA    NaN\n",
       "MALI       2.0\n",
       "NIGER      NaN\n",
       "NIGERIA    8.0\n",
       "SENEGAL    8.0\n",
       "dtype: float64"
      ]
     },
     "execution_count": 32,
     "metadata": {},
     "output_type": "execute_result"
    }
   ],
   "source": [
    "ser1+ser2"
   ]
  },
  {
   "cell_type": "code",
   "execution_count": 4,
   "id": "e830524a",
   "metadata": {},
   "outputs": [
    {
     "data": {
      "text/plain": [
       "0    False\n",
       "1     True\n",
       "2    False\n",
       "3    False\n",
       "4    False\n",
       "5     True\n",
       "6    False\n",
       "7     True\n",
       "8    False\n",
       "dtype: bool"
      ]
     },
     "execution_count": 4,
     "metadata": {},
     "output_type": "execute_result"
    }
   ],
   "source": [
    "# creating series 1  \n",
    "series1 = pd.Series(['Aaa', 10, 'cat', 43, 9, 'Dog', np.nan, 'x', np.nan])  \n",
    "    \n",
    "# creating series 2  \n",
    "series2 = pd.Series(['vaa', np.nan, 'Cat', 23, 5, 'Dog', 54, 'x', np.nan])  \n",
    "  \n",
    "# NaN replacement \n",
    "replace_nan = 10\n",
    "  \n",
    "# calling and returning to result variable \n",
    "result = series1.eq(series2, fill_value = replace_nan) \n",
    "  \n",
    "# display  \n",
    "result  "
   ]
  }
 ],
 "metadata": {
  "kernelspec": {
   "display_name": "Python 3 (ipykernel)",
   "language": "python",
   "name": "python3"
  },
  "language_info": {
   "codemirror_mode": {
    "name": "ipython",
    "version": 3
   },
   "file_extension": ".py",
   "mimetype": "text/x-python",
   "name": "python",
   "nbconvert_exporter": "python",
   "pygments_lexer": "ipython3",
   "version": "3.11.5"
  }
 },
 "nbformat": 4,
 "nbformat_minor": 5
}
